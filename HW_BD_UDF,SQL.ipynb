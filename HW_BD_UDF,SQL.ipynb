{
 "cells": [
  {
   "cell_type": "code",
   "execution_count": 1,
   "id": "cb2239c2",
   "metadata": {},
   "outputs": [],
   "source": [
    "#SparkSession 설정\n",
    "from pyspark.sql import SparkSession\n",
    "\n",
    "spark = SparkSession.builder.master('local').appName('udf').getOrCreate()"
   ]
  },
  {
   "cell_type": "code",
   "execution_count": 5,
   "id": "327105b0",
   "metadata": {},
   "outputs": [],
   "source": [
    "# 샘플 데이터: 이름,나이\n",
    "name_age =[\n",
    "    (\"이신우\",25),\n",
    "    (\"주용수\",20),\n",
    "    (\"이윤명\",57),\n",
    "    (\"이득규\",60),\n",
    "    (\"박덕임\",70),\n",
    "    (\"백서연\",23),\n",
    "    (\"이택규\",58),\n",
    "]"
   ]
  },
  {
   "cell_type": "code",
   "execution_count": 6,
   "id": "46554032",
   "metadata": {},
   "outputs": [],
   "source": [
    "# 스키마 정의\n",
    "schema = [\"name\",\"age\"]"
   ]
  },
  {
   "cell_type": "code",
   "execution_count": 7,
   "id": "3851ec10",
   "metadata": {},
   "outputs": [],
   "source": [
    "#  데이터프레임 생성\n",
    "df = spark.createDataFrame(data=name_age,schema=schema)"
   ]
  },
  {
   "cell_type": "code",
   "execution_count": 16,
   "id": "c7f0abd1",
   "metadata": {},
   "outputs": [
    {
     "name": "stdout",
     "output_type": "stream",
     "text": [
      "+------+---+\n",
      "|  name|age|\n",
      "+------+---+\n",
      "|이신우| 25|\n",
      "|주용수| 20|\n",
      "|이윤명| 57|\n",
      "|이득규| 60|\n",
      "|박덕임| 70|\n",
      "|백서연| 23|\n",
      "|이택규| 58|\n",
      "+------+---+\n",
      "\n"
     ]
    }
   ],
   "source": [
    "# 데이터프레임 출력\n",
    "df.show()"
   ]
  },
  {
   "cell_type": "code",
   "execution_count": 18,
   "id": "09864f10",
   "metadata": {},
   "outputs": [
    {
     "name": "stdout",
     "output_type": "stream",
     "text": [
      "root\n",
      " |-- name: string (nullable = true)\n",
      " |-- age: long (nullable = true)\n",
      "\n"
     ]
    }
   ],
   "source": [
    "# [+] 데이터프레임 스키마 출력\n",
    "df.printSchema()"
   ]
  },
  {
   "cell_type": "code",
   "execution_count": 19,
   "id": "39b2e453",
   "metadata": {},
   "outputs": [],
   "source": [
    "# Temporary View 생성\n",
    "df.createOrReplaceTempView(\"profile\")"
   ]
  },
  {
   "cell_type": "code",
   "execution_count": 20,
   "id": "9b25fdde",
   "metadata": {},
   "outputs": [],
   "source": [
    "#UDF 등록하기\n",
    "from pyspark.sql.functions import udf"
   ]
  },
  {
   "cell_type": "code",
   "execution_count": 21,
   "id": "2a7e56b7",
   "metadata": {},
   "outputs": [],
   "source": [
    "#udf 함수 정의\n",
    "def age_category(age):\n",
    "    if age < 35:\n",
    "        return \"young\"\n",
    "    elif age < 60:\n",
    "        return \"adult\"\n",
    "    else:\n",
    "        return \"senior\""
   ]
  },
  {
   "cell_type": "code",
   "execution_count": 22,
   "id": "099d53ff",
   "metadata": {},
   "outputs": [
    {
     "data": {
      "text/plain": [
       "<function __main__.age_category(age)>"
      ]
     },
     "execution_count": 22,
     "metadata": {},
     "output_type": "execute_result"
    }
   ],
   "source": [
    "# udf 등록\n",
    "spark.udf.register(\"age_category\",age_category)"
   ]
  },
  {
   "cell_type": "code",
   "execution_count": 23,
   "id": "f721d74d",
   "metadata": {},
   "outputs": [
    {
     "name": "stdout",
     "output_type": "stream",
     "text": [
      "+------+-----------------+\n",
      "|  name|age_category(age)|\n",
      "+------+-----------------+\n",
      "|이신우|            young|\n",
      "|주용수|            young|\n",
      "|이윤명|            adult|\n",
      "|이득규|           senior|\n",
      "|박덕임|           senior|\n",
      "|백서연|            young|\n",
      "|이택규|            adult|\n",
      "+------+-----------------+\n",
      "\n"
     ]
    }
   ],
   "source": [
    "# SQL문처리\n",
    "spark.sql(\n",
    "        \"SELECT name,age_category(age) FROM profile\").show()"
   ]
  },
  {
   "cell_type": "code",
   "execution_count": null,
   "id": "28792a46",
   "metadata": {},
   "outputs": [],
   "source": []
  }
 ],
 "metadata": {
  "kernelspec": {
   "display_name": "Python 3 (ipykernel)",
   "language": "python",
   "name": "python3"
  },
  "language_info": {
   "codemirror_mode": {
    "name": "ipython",
    "version": 3
   },
   "file_extension": ".py",
   "mimetype": "text/x-python",
   "name": "python",
   "nbconvert_exporter": "python",
   "pygments_lexer": "ipython3",
   "version": "3.9.13"
  }
 },
 "nbformat": 4,
 "nbformat_minor": 5
}
